{
  "nbformat": 4,
  "nbformat_minor": 0,
  "metadata": {
    "colab": {
      "name": "WEB_SCRAPING_PS4_v2.ipynb",
      "provenance": [],
      "collapsed_sections": [],
      "toc_visible": true
    },
    "kernelspec": {
      "name": "python3",
      "display_name": "Python 3"
    }
  },
  "cells": [
    {
      "cell_type": "markdown",
      "metadata": {
        "id": "VYfg3I_fSt6e",
        "colab_type": "text"
      },
      "source": [
        "# WebScraping PS4 store with Selenium\n",
        "\n",
        "This notebook shows how use selenium to scrape data from playstationstore.com\n",
        "The scope is only to understand the capabilities of web scraping and prepare a dataset for academic purporse.\n",
        "\n",
        "\n",
        "\n",
        "<a href=\"https://colab.research.google.com/drive/1_WyM24eXWf-pdcqJKCcsb1pWwnbEWRi8?authuser=2#scrollTo=VYfg3I_fSt6e\"><img align=\"left\" src=\"https://colab.research.google.com/assets/colab-badge.svg\" alt=\"Open in Colab\" title=\"Open and Execute in Google Colaboratory\"></a>\n"
      ]
    },
    {
      "cell_type": "code",
      "metadata": {
        "id": "6E11q1711nmO",
        "colab_type": "code",
        "colab": {}
      },
      "source": [
        "!pip install selenium\n",
        "!apt-get update\n",
        "!apt install chromium-chromedriver\n",
        "!cp /usr/lib/chromium-browser/chromedriver /usr/bin"
      ],
      "execution_count": null,
      "outputs": []
    },
    {
      "cell_type": "code",
      "metadata": {
        "id": "YRt5yEXxA-jW",
        "colab_type": "code",
        "colab": {}
      },
      "source": [
        "import sys\n",
        "sys.path.insert(0,'/usr/lib/chromium-browser/chromedriver')\n",
        "from selenium import webdriver\n",
        "from tqdm import tqdm_notebook as tqdm\n",
        "import pandas\n",
        "import json\n",
        "import pprint"
      ],
      "execution_count": null,
      "outputs": []
    },
    {
      "cell_type": "code",
      "metadata": {
        "id": "DTfvdy_gBCBU",
        "colab_type": "code",
        "colab": {}
      },
      "source": [
        "chrome_options = webdriver.ChromeOptions()\n",
        "chrome_options.add_argument('--headless')\n",
        "chrome_options.add_argument('--no-sandbox')\n",
        "chrome_options.add_argument('--disable-dev-shm-usage')"
      ],
      "execution_count": null,
      "outputs": []
    },
    {
      "cell_type": "code",
      "metadata": {
        "id": "D6MLvqs9BIzI",
        "colab_type": "code",
        "colab": {}
      },
      "source": [
        "wd = webdriver.Chrome('chromedriver',chrome_options=chrome_options)\n",
        "wd.get(\"https://store.playstation.com/it-it/grid/STORE-MSF75508-FULLGAMES/1?direction=desc&platform=ps4&sort=release_date\")"
      ],
      "execution_count": null,
      "outputs": []
    },
    {
      "cell_type": "code",
      "metadata": {
        "id": "iBCZSC4dWfKW",
        "colab_type": "code",
        "colab": {}
      },
      "source": [
        "wd.save_screenshot('screenshot.png')\n",
        "\n",
        "%pylab inline\n",
        "import matplotlib.pyplot as plt\n",
        "import matplotlib.image as mpimg\n",
        "img=mpimg.imread('/content/screenshot.png')\n",
        "imgplot = plt.imshow(img)\n",
        "plt.show()"
      ],
      "execution_count": null,
      "outputs": []
    },
    {
      "cell_type": "markdown",
      "metadata": {
        "id": "A1ETBqlPcQhl",
        "colab_type": "text"
      },
      "source": [
        "# Game List from PS4\n",
        "\n",
        "Iniziamo a scaricare la lista dei giochi con i css selectors\n",
        "\n",
        "\n",
        "\n"
      ]
    },
    {
      "cell_type": "code",
      "metadata": {
        "id": "_V1hNO9ZcJy6",
        "colab_type": "code",
        "colab": {}
      },
      "source": [
        "list_games = wd.find_elements_by_css_selector(\"div.grid-cell__body\")\n",
        "print(len(list_games))\n"
      ],
      "execution_count": null,
      "outputs": []
    },
    {
      "cell_type": "code",
      "metadata": {
        "id": "1J2xAL6qcj9-",
        "colab_type": "code",
        "colab": {}
      },
      "source": [
        "import pprint\n",
        "import time\n",
        "detail_games = []\n",
        "for game in list_games:\n",
        "    title = game.find_elements_by_css_selector(\"a>div.grid-cell__title>span\")[0].text\n",
        "    price = game.find_elements_by_css_selector(\"h3.price-display__price\")[0].text\n",
        "    url = game.find_elements_by_css_selector(\"div.grid-cell__body>a.internal-app-link.ember-view\")[0].get_attribute(\"href\")\n",
        "    detail_games.append({'url': url,\n",
        "                            'title': title,\n",
        "                            'price': price,\n",
        "                            })\n",
        "    \n",
        "    time.sleep(1.1)\n",
        "    \n",
        "pprint.pprint(detail_games)\n",
        "len(detail_games)"
      ],
      "execution_count": null,
      "outputs": []
    },
    {
      "cell_type": "code",
      "metadata": {
        "id": "tD3KLUrIfTJd",
        "colab_type": "code",
        "colab": {}
      },
      "source": [
        "def parse_game(game):\n",
        "  title = \"\"\n",
        "  price = \"\"\n",
        "  url = \"\"\n",
        "  try:\n",
        "    title = game.find_elements_by_css_selector(\"a>div.grid-cell__title>span\")[0].text\n",
        "    price = game.find_elements_by_css_selector(\"h3.price-display__price\")[0].text\n",
        "    url = game.find_elements_by_css_selector(\"div.grid-cell__body>a.internal-app-link.ember-view\")[0].get_attribute(\"href\")\n",
        "  except:\n",
        "    pass\n",
        "  return {'title': title,\n",
        "          'price': price,\n",
        "          'url': url}\n"
      ],
      "execution_count": null,
      "outputs": []
    },
    {
      "cell_type": "markdown",
      "metadata": {
        "id": "SR-xG0FIgf7u",
        "colab_type": "text"
      },
      "source": [
        "Here's how to download the first two pages of projects..."
      ]
    },
    {
      "cell_type": "code",
      "metadata": {
        "id": "TfWSS_33fbZg",
        "colab_type": "code",
        "colab": {}
      },
      "source": [
        "detail_games = []\n",
        "for num in tqdm(range(1,2)):\n",
        "  wd.get(f\"https://store.playstation.com/it-it/grid/STORE-MSF75508-FULLGAMES/{num}?direction=desc&platform=ps4&sort=release_date\")\n",
        "  wd.save_screenshot(f'screenshot_{num}.png')\n",
        "  list_games = wd.find_elements_by_css_selector(\"div.grid-cell__body\")\n",
        "  for game in list_games:\n",
        "    detail_games.append(parse_game(game))\n",
        "\n",
        "print(len(detail_games))"
      ],
      "execution_count": null,
      "outputs": []
    },
    {
      "cell_type": "markdown",
      "metadata": {
        "id": "HbjVFLOOgnNx",
        "colab_type": "text"
      },
      "source": [
        "Have you seen the bookstore **tqdm**!\n",
        "Find at this link all the documentation **https://github.com/tqdm/tqdm**:\n",
        "is very useful to make our notebook more nice..."
      ]
    },
    {
      "cell_type": "markdown",
      "metadata": {
        "id": "S9MsWLutg4Oi",
        "colab_type": "text"
      },
      "source": [
        "### How to end scraping?\n",
        "Facciamo scraping dalle prime 7 pagine"
      ]
    },
    {
      "cell_type": "code",
      "metadata": {
        "id": "R7CRrXZiqtgX",
        "colab_type": "code",
        "colab": {}
      },
      "source": [
        "h = random.random(1)\n",
        "print(h)"
      ],
      "execution_count": null,
      "outputs": []
    },
    {
      "cell_type": "code",
      "metadata": {
        "id": "nkofmsCGgwQA",
        "colab_type": "code",
        "colab": {}
      },
      "source": [
        "import time\n",
        "detail_games = []\n",
        "for num in tqdm(range(1,8)):\n",
        "  time.sleep(1.2)\n",
        "  wd.get(f\"https://store.playstation.com/it-it/grid/STORE-MSF75508-FULLGAMES/{num}?direction=desc&platform=ps4&sort=release_date\")\n",
        "  #wd.save_screenshot(f'screenshot_{num}.png')\n",
        "  list_games = wd.find_elements_by_css_selector(\"div.grid-cell__body\")\n",
        "  for game in list_games:\n",
        "    detail_games.append(parse_game(game))\n",
        "\n",
        "print(len(detail_games))"
      ],
      "execution_count": null,
      "outputs": []
    },
    {
      "cell_type": "markdown",
      "metadata": {
        "id": "TqxsicNNovfy",
        "colab_type": "text"
      },
      "source": [
        "# Pandas and data processing\n",
        "\n",
        "Creiamo un DF pandas e disponiamo le colonne in modo diverso\n"
      ]
    },
    {
      "cell_type": "code",
      "metadata": {
        "id": "MumFgyNypoBo",
        "colab_type": "code",
        "colab": {}
      },
      "source": [
        "import pandas as pd\n",
        "df = pd.DataFrame(detail_games)\n",
        "df[\"ID\"] = df.index + 1\n",
        "df = df[df.columns[[3,0,2,1]]]\n",
        "df.head()"
      ],
      "execution_count": null,
      "outputs": []
    },
    {
      "cell_type": "markdown",
      "metadata": {
        "id": "GwW7Sj7irFDT",
        "colab_type": "text"
      },
      "source": [
        "The `.info()` method provides an indication of the structure and data of the `DataFrame`."
      ]
    },
    {
      "cell_type": "code",
      "metadata": {
        "id": "_tFbyPwcrNY4",
        "colab_type": "code",
        "colab": {}
      },
      "source": [
        "df.info()"
      ],
      "execution_count": null,
      "outputs": []
    },
    {
      "cell_type": "code",
      "metadata": {
        "id": "3lUw4-_BrQDh",
        "colab_type": "code",
        "colab": {}
      },
      "source": [
        "df.to_csv('ds_games.csv')"
      ],
      "execution_count": null,
      "outputs": []
    },
    {
      "cell_type": "markdown",
      "metadata": {
        "id": "AXdgP8t3q_A-",
        "colab_type": "text"
      },
      "source": [
        "###PS4 pages ###\n",
        "\n",
        "Now, the goal is to navigate and download the details of each project and pictures of the houses.\n",
        "\n",
        "**Pandas** provides the *.read_csv* method that allows you to upload in CSV format files within a DataFrame."
      ]
    },
    {
      "cell_type": "code",
      "metadata": {
        "id": "yVnUyfGsvcac",
        "colab_type": "code",
        "colab": {}
      },
      "source": [
        "# open csv file\n",
        "import pandas as pd\n",
        "ds_detail_games = pd.read_csv(\"ds_games.csv\", index_col=[0])\n",
        "ds_detail_games.head()"
      ],
      "execution_count": null,
      "outputs": []
    },
    {
      "cell_type": "markdown",
      "metadata": {
        "id": "8VaXQ52Kv2am",
        "colab_type": "text"
      },
      "source": [
        "***Primi 5 giochi, per vedere come funziona e se funziona***\n"
      ]
    },
    {
      "cell_type": "code",
      "metadata": {
        "id": "7RJTIyFfv-Ig",
        "colab_type": "code",
        "colab": {}
      },
      "source": [
        "from selenium.webdriver.common.by import By\n",
        "from selenium.webdriver.support.ui import WebDriverWait\n",
        "from selenium.webdriver.support import expected_conditions as EC\n",
        "import time\n",
        "details = []\n",
        "for ID, game in ds_detail_games.head().iterrows():\n",
        "    link = game[\"url\"]\n",
        "    print(link)\n",
        "    wd.set_window_size(1920, 1080)\n",
        "    wd.get(link)\n",
        "  \n",
        "    title = wd.find_elements_by_css_selector(\"h2.pdp__title\")[0].text\n",
        "    wd.save_screenshot(f'screenshot_{title}.png')\n",
        "    Val = wd.find_elements_by_css_selector(\"div.provider-info__rating-count\")[0].text.replace(\" Valutazioni\",\"\")\n",
        "    Genre = wd.find_elements_by_css_selector(\"li.tech-specs__menu-items\")[0].text\n",
        "    time.sleep(16)\n",
        "    Pub = wd.find_elements_by_css_selector(\"span.provider-info__list-item\")[1].text.replace(\"Pubblicato \",\"\")\n",
        "    details.append({'ID': ID+1,\n",
        "                    'title': title,\n",
        "                    'Val': Val,\n",
        "                    'Genre': Genre,\n",
        "                    'Pub': Pub})\n",
        "    break\n",
        "  \n",
        "len(details)\n",
        "pprint.pprint(details)\n",
        "print(len(details))\n",
        "\n",
        "\n"
      ],
      "execution_count": null,
      "outputs": []
    },
    {
      "cell_type": "markdown",
      "metadata": {
        "id": "0EB_53jjVhUH",
        "colab_type": "text"
      },
      "source": [
        "Adesso per ogni link della lista che ci siamo ricavati prima, identifichiamo tutti i fattori che ci interessano per ogni gioco e li inseriamo in un DF Pandas"
      ]
    },
    {
      "cell_type": "code",
      "metadata": {
        "id": "xf7bDTWTxLlf",
        "colab_type": "code",
        "colab": {}
      },
      "source": [
        "from selenium.webdriver.common.by import By\n",
        "from selenium.webdriver.support.ui import WebDriverWait\n",
        "from selenium.webdriver.support import expected_conditions as EC\n",
        "import time\n",
        "import re\n",
        "details = []\n",
        "ID = 0\n",
        "for ID, game in tqdm(ds_detail_games.iterrows(), total=ds_detail_games.shape[0]):\n",
        "    time.sleep(1)\n",
        "    link = game[\"url\"]\n",
        "    genre_list = 0\n",
        "    Pub_list = 0\n",
        "    Title = 0\n",
        "    Val = 0\n",
        "    Star = 0\n",
        "    N_full_star = 0\n",
        "    N_half_stars = 0\n",
        "\n",
        "    #print(link)\n",
        "    try:\n",
        "      wd.set_window_size(1920, 1080)\n",
        "      wd.get(link)\n",
        "      time.sleep(15)\n",
        "      wd.save_screenshot(f'screenshot_{ID}.png')\n",
        "      genre_list = wd.find_elements_by_css_selector(\"li.tech-specs__menu-items\")\n",
        "      Pub_list = wd.find_elements_by_css_selector(\"span.provider-info__list-item\")\n",
        "      Title = wd.find_elements_by_css_selector(\"h2.pdp__title\")\n",
        "      Val = wd.find_elements_by_css_selector(\"div.provider-info__rating-count\")\n",
        "      Age=wd.find_elements_by_css_selector(\"img.content-rating__rating-img\")\n",
        "      N_full_star = wd.find_elements_by_css_selector(\"div i.star-rating__star.fa.fa-star\")\n",
        "      N_half_stars= wd.find_elements_by_css_selector(\"div i.star-rating__star.fa.fa-star-half-o\")\n",
        "      if(len(genre_list) > 0):\n",
        "        genre = genre_list[0].text\n",
        "      if(len(Pub_list) > 0):\n",
        "        Pub = Pub_list[1].text.replace(\"Pubblicato \",\"\")\n",
        "      if(len(Title) > 0):\n",
        "        Title = Title[0].text\n",
        "      if(len(Val) > 0):\n",
        "        Val = Val[0].text.replace(\" Valutazioni\",\"\")\n",
        "      if(len(Age) > 0):\n",
        "        Age = \"\".join(filter(lambda i: i.isdigit(), Age[0].get_attribute(\"src\").split(\"/\")[-1]))\n",
        "      Star= float(len(N_full_star))+float(len((N_half_stars))/2)\n",
        "    except Exception as e:\n",
        "      print(e)\n",
        "    details.append({'ID': ID+1,\n",
        "                    'genre': genre,\n",
        "                    'Pub': Pub,\n",
        "                    'Title': Title,\n",
        "                    'Val': Val,\n",
        "                    'Age': Age,\n",
        "                    'Star': Star,\n",
        "                    'Url':link})\n",
        "  \n",
        "print(len(details))\n",
        "#pprint.pprint(details)\n"
      ],
      "execution_count": null,
      "outputs": []
    },
    {
      "cell_type": "code",
      "metadata": {
        "id": "nmOdNznWXKtj",
        "colab_type": "code",
        "colab": {}
      },
      "source": [
        "len(details)"
      ],
      "execution_count": null,
      "outputs": []
    },
    {
      "cell_type": "markdown",
      "metadata": {
        "id": "fcfGcK4O4R2-",
        "colab_type": "text"
      },
      "source": [
        "Store the data with *pandas*"
      ]
    },
    {
      "cell_type": "code",
      "metadata": {
        "id": "4xik7JIr4J-n",
        "colab_type": "code",
        "colab": {}
      },
      "source": [
        "import pandas as pd\n",
        "ds_details = pd.DataFrame(details)\n",
        "ds_details.set_index(\"ID\")\n",
        "ds_details.head()"
      ],
      "execution_count": null,
      "outputs": []
    },
    {
      "cell_type": "code",
      "metadata": {
        "id": "pBkNRigl4b9G",
        "colab_type": "code",
        "colab": {}
      },
      "source": [
        "ds_details.info()"
      ],
      "execution_count": null,
      "outputs": []
    },
    {
      "cell_type": "code",
      "metadata": {
        "id": "YSlNICg94fKj",
        "colab_type": "code",
        "colab": {}
      },
      "source": [
        "ds_details.to_csv(\"ds_project_details.csv\")"
      ],
      "execution_count": null,
      "outputs": []
    },
    {
      "cell_type": "markdown",
      "metadata": {
        "id": "dJdurd8345Jp",
        "colab_type": "text"
      },
      "source": [
        "# PS4 Game images\n",
        "\n",
        "\n",
        "\n",
        "\n",
        "Our goal is to create a dataset of images and a `Dataframe` composed by:\n",
        "- `project_id`\n",
        "- `image_id`\n"
      ]
    },
    {
      "cell_type": "code",
      "metadata": {
        "id": "OxcEalkYFNCz",
        "colab_type": "code",
        "colab": {}
      },
      "source": [
        "\n",
        "wd.get(f\"https://store.playstation.com/it-it/grid/STORE-MSF75508-FULLGAMES/1?direction=desc&platform=ps4&sort=release_date\")"
      ],
      "execution_count": null,
      "outputs": []
    },
    {
      "cell_type": "code",
      "metadata": {
        "id": "q1cy5Jzt6ab-",
        "colab_type": "code",
        "colab": {}
      },
      "source": [
        "import time\n",
        "import requests\n",
        "\n",
        "detail_games = []\n",
        "list_images = []\n",
        "ID = 0\n",
        "for num in tqdm(range(1,8)):\n",
        "  wd.get(f\"https://store.playstation.com/it-it/grid/STORE-MSF75508-FULLGAMES/{num}?direction=desc&platform=ps4&sort=release_date\")\n",
        "  list_games = wd.find_elements_by_css_selector(\"div.grid-cell.grid-cell--game\")\n",
        "  for game in list_games:\n",
        "    try:\n",
        "      ID = ID+1\n",
        "      src = game.find_element_by_css_selector(\"div.product-image__img.product-image__img--main>img\").get_attribute(\"src\")\n",
        "      list_images.append({\"game_id\": ID,\n",
        "                          \"img_file\": \"img_\" + str(ID) + \".jpg\"})\n",
        "      img_file = requests.get(src, stream=True)\n",
        "      if img_file.status_code == 200:\n",
        "        with open(\"/content/immagini/img_\" + str(ID) + \".jpg\", 'wb') as f:\n",
        "          f.write(img_file.content)\n",
        "    except Exception as e:\n",
        "      print(e)\n",
        "  \n",
        "\n"
      ],
      "execution_count": null,
      "outputs": []
    },
    {
      "cell_type": "code",
      "metadata": {
        "id": "tRuxZNfzEk2q",
        "colab_type": "code",
        "colab": {}
      },
      "source": [
        "from google.colab import drive\n",
        "drive.mount('/content/drive')"
      ],
      "execution_count": null,
      "outputs": []
    },
    {
      "cell_type": "code",
      "metadata": {
        "id": "wy5AJ3iUj-DO",
        "colab_type": "code",
        "colab": {}
      },
      "source": [
        "print(len(list_images))"
      ],
      "execution_count": null,
      "outputs": []
    },
    {
      "cell_type": "code",
      "metadata": {
        "id": "BSPk4TWtAvWj",
        "colab_type": "code",
        "colab": {}
      },
      "source": [
        "%pylab inline\n",
        "import matplotlib.pyplot as plt\n",
        "import matplotlib.image as mpimg\n",
        "img=mpimg.imread('/content/images/img_174')\n",
        "imgplot = plt.imshow(img)\n",
        "plt.show()"
      ],
      "execution_count": null,
      "outputs": []
    },
    {
      "cell_type": "markdown",
      "metadata": {
        "id": "9oq-mP-v8LZl",
        "colab_type": "text"
      },
      "source": [
        "import pandas as pd\n",
        "ds_images = pd.DataFrame(list_images)\n",
        "ds_images.head()"
      ]
    },
    {
      "cell_type": "code",
      "metadata": {
        "id": "CnOc9035NJQB",
        "colab_type": "code",
        "colab": {}
      },
      "source": [
        "import pandas as pd\n",
        "ds_images = pd.DataFrame(list_images)\n",
        "ds_images.set_index(\"game_id\")\n",
        "ds_images.head()"
      ],
      "execution_count": null,
      "outputs": []
    },
    {
      "cell_type": "code",
      "metadata": {
        "id": "v1A0HPUPhmdT",
        "colab_type": "code",
        "colab": {}
      },
      "source": [
        "ds_images.info()"
      ],
      "execution_count": null,
      "outputs": []
    },
    {
      "cell_type": "code",
      "metadata": {
        "id": "2CLUnkOW8O0Q",
        "colab_type": "code",
        "colab": {}
      },
      "source": [
        "ds_images.to_csv(\"ds_images.csv\")"
      ],
      "execution_count": null,
      "outputs": []
    },
    {
      "cell_type": "code",
      "metadata": {
        "id": "v0F53Zz7JRN2",
        "colab_type": "code",
        "colab": {}
      },
      "source": [
        "!zip -r \"/content/images.zip\" \"/content/images/\"\n"
      ],
      "execution_count": null,
      "outputs": []
    },
    {
      "cell_type": "markdown",
      "metadata": {
        "id": "g_f5pD019XW6",
        "colab_type": "text"
      },
      "source": [
        "# API\n",
        "\n",
        "Let's see how to use the **requests** library to hook APIs provided by our suppliers or colleagues."
      ]
    },
    {
      "cell_type": "markdown",
      "metadata": {
        "id": "GuDgoTW29jH_",
        "colab_type": "text"
      },
      "source": [
        "## Crarifai\n",
        "\n",
        "Adesso con Clarifai identificheremo 10 concetti per ogni immagine che utilizzeremo nella GUI tkinter prevista nel progettl.\n",
        "\n",
        "\n",
        "```\n",
        "pip install clarifai\n",
        "```\n",
        "\n",
        "\n",
        "\n",
        "\n"
      ]
    },
    {
      "cell_type": "code",
      "metadata": {
        "id": "WgBUGy519fzQ",
        "colab_type": "code",
        "colab": {}
      },
      "source": [
        "!pip install clarifai"
      ],
      "execution_count": null,
      "outputs": []
    },
    {
      "cell_type": "code",
      "metadata": {
        "id": "U7O5yiMD-BHm",
        "colab_type": "code",
        "colab": {}
      },
      "source": [
        "from clarifai.rest import ClarifaiApp\n",
        "\n",
        "# setup your key!!!\n",
        "clarifai_key = \"7e6002d1bf3a43c59f2019f1d1a423a5\"\n",
        "app = ClarifaiApp(api_key=clarifai_key)\n",
        "\n",
        "# and use the general model\n",
        "model = app.public_models.general_model"
      ],
      "execution_count": null,
      "outputs": []
    },
    {
      "cell_type": "markdown",
      "metadata": {
        "id": "0RiAZbNkB5Au",
        "colab_type": "text"
      },
      "source": [
        "Now let's go and identify all the concepts for each image of each project."
      ]
    },
    {
      "cell_type": "code",
      "metadata": {
        "id": "uu3J01GhB_w4",
        "colab_type": "code",
        "colab": {}
      },
      "source": [
        "ds_images = pd.read_csv(\"ds_images.csv\", index_col=\"game_id\")\n",
        "\n",
        "img_details = []\n",
        "count = 0\n",
        "for game_id, image in tqdm(ds_images.iterrows(), total=ds_images.shape[0]):\n",
        "  try:\n",
        "    response = model.predict_by_filename(\"/content/immagini/\" + image['img_file'])\n",
        "    if(response['status']['description'] == \"Ok\"):\n",
        "      for concept in response[\"outputs\"][0][\"data\"][\"concepts\"]:\n",
        "          name = concept[\"name\"]\n",
        "          value = concept[\"value\"]\n",
        "          img_details.append({\n",
        "            \"game_id\": game_id,\n",
        "            \"image\": image['img_file'],\n",
        "            \"name\": name,\n",
        "            \"value\": value\n",
        "          })\n",
        "          count = count +1\n",
        "          if count >=10:\n",
        "            count = 0\n",
        "            break\n",
        "  except Exception as e:\n",
        "    print(e)\n",
        "\n",
        "print(len(img_details))"
      ],
      "execution_count": null,
      "outputs": []
    },
    {
      "cell_type": "code",
      "metadata": {
        "id": "K-XKuwF8A-MJ",
        "colab_type": "code",
        "colab": {}
      },
      "source": [
        "pprint.pprint(img_details)"
      ],
      "execution_count": null,
      "outputs": []
    },
    {
      "cell_type": "code",
      "metadata": {
        "id": "5nIUezSrDTKK",
        "colab_type": "code",
        "colab": {}
      },
      "source": [
        "import pandas as pd\n",
        "ds_img_details = pd.DataFrame(img_details)\n",
        "ds_img_details.set_index(\"game_id\")\n",
        "ds_img_details.head()"
      ],
      "execution_count": null,
      "outputs": []
    },
    {
      "cell_type": "code",
      "metadata": {
        "id": "VXJF8-Q4ljK7",
        "colab_type": "code",
        "colab": {}
      },
      "source": [
        "ds_img_details.info()"
      ],
      "execution_count": null,
      "outputs": []
    },
    {
      "cell_type": "code",
      "metadata": {
        "id": "1WR4kQBsDXwx",
        "colab_type": "code",
        "colab": {}
      },
      "source": [
        "ds_img_details.to_csv('ds_img_details.csv')"
      ],
      "execution_count": null,
      "outputs": []
    }
  ]
}